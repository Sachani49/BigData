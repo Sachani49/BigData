{
  "nbformat": 4,
  "nbformat_minor": 0,
  "metadata": {
    "colab": {
      "provenance": [],
      "toc_visible": true,
      "include_colab_link": true
    },
    "kernelspec": {
      "name": "python3",
      "display_name": "Python 3"
    },
    "language_info": {
      "name": "python"
    }
  },
  "cells": [
    {
      "cell_type": "markdown",
      "metadata": {
        "id": "view-in-github",
        "colab_type": "text"
      },
      "source": [
        "<a href=\"https://colab.research.google.com/github/Sachani49/BigData/blob/main/Introduction_to_Python_Part1.ipynb\" target=\"_parent\"><img src=\"https://colab.research.google.com/assets/colab-badge.svg\" alt=\"Open In Colab\"/></a>"
      ]
    },
    {
      "cell_type": "markdown",
      "source": [
        "# GGE-5405/6505 Big Data\n",
        "\n",
        "# **Intro to Python - Part 1**\n",
        "\n"
      ],
      "metadata": {
        "id": "IFLogjs-S9dd"
      }
    },
    {
      "cell_type": "markdown",
      "source": [
        "\n",
        "\n",
        "---\n",
        "\n"
      ],
      "metadata": {
        "id": "ZngaIurUPa7v"
      }
    },
    {
      "cell_type": "markdown",
      "source": [
        "# **1. Introduction to Google Colab**\n",
        "---- *adapted from the original notebook* [Overview of Colaboratory Features](https://colab.research.google.com/notebooks/basic_features_overview.ipynb)"
      ],
      "metadata": {
        "id": "eiOZ4fn7dhQv"
      }
    },
    {
      "cell_type": "markdown",
      "source": [
        "Why Google Colab? \n",
        "\n",
        "*   Can access GPU for enhanced processing\n",
        "*   Many common python libraries pre-installed\n",
        "*   Built on top Jupyter Notebook\n",
        "*   Basic use is free of charge\n",
        "*   Supports Bash commands\n",
        "*   Can store on Drive or GitHub, good for collaboration\n",
        "\n",
        "\n",
        "\n",
        "\n",
        "\n",
        "\n",
        "\n",
        "\n",
        "**NOTE**: Check out the [Google Colab FAQ](https://research.google.com/colaboratory/faq.html) page for a good overview of the platform and a description of its uses and capabilities.\n",
        "\n",
        "\n"
      ],
      "metadata": {
        "id": "T9lowDfpd4r2"
      }
    },
    {
      "cell_type": "markdown",
      "source": [
        "## Cells\n",
        "A notebook is a list of cells. Cells contain either explanatory text or executable code and its output. Click a cell to select it."
      ],
      "metadata": {
        "id": "klSFWjpndcz-"
      }
    },
    {
      "cell_type": "markdown",
      "source": [
        "### Code cells\n",
        "Below is a **code cell**. Click in the cell to select it and execute the contents in the following ways:\n",
        "\n",
        "* Click the **Play icon** in the left gutter of the cell;\n",
        "* Type **Cmd/Ctrl+Enter** to run the cell in place;\n",
        "* Type **Shift+Enter** to run the cell and move focus to the next cell (adding one if none exists); or\n",
        "* Type **Alt+Enter** to run the cell and insert a new code cell immediately below it.\n",
        "\n",
        "There are additional options for running some or all cells in the **Runtime** menu."
      ],
      "metadata": {
        "id": "VbJrbgqHdpVO"
      }
    },
    {
      "cell_type": "code",
      "source": [
        "a = 10\n",
        "a"
      ],
      "metadata": {
        "id": "hx7BuuIXdtIP",
        "colab": {
          "base_uri": "https://localhost:8080/"
        },
        "outputId": "668809ba-7635-4cea-cf68-8156b9755291"
      },
      "execution_count": 2,
      "outputs": [
        {
          "output_type": "execute_result",
          "data": {
            "text/plain": [
              "10"
            ]
          },
          "metadata": {},
          "execution_count": 2
        }
      ]
    },
    {
      "cell_type": "markdown",
      "source": [
        "Note that we have just created a variable called 'a' which now shows up in the 'Variables' tab to the left."
      ],
      "metadata": {
        "id": "jk2JNNqrwHAf"
      }
    },
    {
      "cell_type": "markdown",
      "source": [
        "### Text cells\n",
        "This is a **text cell**. You can **double-click** to edit this cell. Text cells\n",
        "use markdown syntax. To learn more, see our [markdown\n",
        "guide](/notebooks/markdown_guide.ipynb)."
      ],
      "metadata": {
        "id": "fCovsD3sduUk"
      }
    },
    {
      "cell_type": "markdown",
      "source": [
        "### Adding and moving cells\n",
        "You can add new cells by using the **+ CODE** and **+ TEXT** buttons that show when you hover between cells. These buttons are also in the toolbar above the notebook where they can be used to add a cell below the currently selected cell.\n",
        "\n",
        "You can move a cell by selecting it and clicking **Cell Up** or **Cell Down** in the top toolbar. \n",
        "\n",
        "Consecutive cells can be selected by \"lasso selection\" by dragging from outside one cell and through the group.  Non-adjacent cells can be selected concurrently by clicking one and then holding down Ctrl while clicking another.  Similarly, using Shift instead of Ctrl will select all intermediate cells."
      ],
      "metadata": {
        "id": "BQMAmTETd3XD"
      }
    },
    {
      "cell_type": "markdown",
      "source": [
        "## Setting the GPU Accelerator"
      ],
      "metadata": {
        "id": "dNNCveDAiO_W"
      }
    },
    {
      "cell_type": "markdown",
      "source": [
        "With Google Colab, you have the option to use CPU or GPU. By default, Google Colab uses CPU. To change to GPU, do the following:\n",
        "\n",
        "```\n",
        "1. Click on ‘Edit’ > ‘Notebook Settings’ > ‘Hardware Accelerator’ > ‘GPU’.\n",
        "\n",
        "OR\n",
        "\n",
        "2. Click on ‘Runtime’ > ‘Change Runtime Type’ > 'Hardware Accelerator' > ‘GPU’.\n",
        "\n",
        "```\n",
        "\n",
        "Wen running a cell, make sure the runtime is connected. The notebook shows a green check and ‘Connected’ on the top right corner.\n",
        "There are various runtime options in ‘Runtime’.\n"
      ],
      "metadata": {
        "id": "5CNRD5y8hRxr"
      }
    },
    {
      "cell_type": "markdown",
      "source": [
        "## Coding in Google Colab"
      ],
      "metadata": {
        "id": "Bm_-TPSnel8Y"
      }
    },
    {
      "cell_type": "markdown",
      "source": [
        "Long running python processes can be interrupted. Run the following cell and select Runtime -> Interrupt execution (hotkey: Cmd/Ctrl-M I) to stop execution."
      ],
      "metadata": {
        "id": "Xn98mOgWetzO"
      }
    },
    {
      "cell_type": "code",
      "source": [
        "import time\n",
        "print(\"Sleeping\")\n",
        "time.sleep(30) # sleep for a while; interrupt me!\n",
        "print(\"Done Sleeping\")"
      ],
      "metadata": {
        "id": "JF8LtDGWeudU"
      },
      "execution_count": null,
      "outputs": []
    },
    {
      "cell_type": "markdown",
      "source": [
        "Bash commands can be used in Code cells by prefixing with '!'"
      ],
      "metadata": {
        "id": "6EOTz1OMi0lJ"
      }
    },
    {
      "cell_type": "code",
      "source": [
        "# check what path we are in\n",
        "!pwd"
      ],
      "metadata": {
        "id": "K2dZjwhyjSMh"
      },
      "execution_count": null,
      "outputs": []
    },
    {
      "cell_type": "code",
      "source": [
        "# list contents\n",
        "!ls"
      ],
      "metadata": {
        "id": "Ut4Hn4pvi7Nu"
      },
      "execution_count": null,
      "outputs": []
    },
    {
      "cell_type": "code",
      "source": [
        "# make a new directory\n",
        "!mkdir demo2\n",
        "!ls"
      ],
      "metadata": {
        "id": "diI65qefkOV-"
      },
      "execution_count": null,
      "outputs": []
    },
    {
      "cell_type": "code",
      "source": [
        "# check python version\n",
        "!python --version"
      ],
      "metadata": {
        "id": "GknDqCHHxSFy"
      },
      "execution_count": null,
      "outputs": []
    },
    {
      "cell_type": "markdown",
      "source": [
        "## Saving colab notebook to GitHub\n",
        "\n",
        "You can save your notebook on google drive, download it to your machine, or save a copy to GitHub. For this course, we will be using GitHub to share content. If you do not have a GitHub account, you can go to https://github.com/join and follow the instructions to create an account. \n",
        "\n",
        "\n",
        "To create a repository:\n",
        "\n",
        "\n",
        "1. Open your GitHub account.\n",
        "2. Click on the + sign in the top right corner of the page.\n",
        "3. Create a name for your repository and add a description.\n",
        "4. Choose if repository will be public or private.\n",
        "5. Select 'Add a README file' option to initialize the repo.\n",
        "6. Click 'Create Repository'.\n",
        "\n",
        "Now that you have a repository created for the class, you can save your colab notebooks to github and share it with others. Note that if your repo is private, you will need to add members to your repo to be able to share your notebooks and other content.\n"
      ],
      "metadata": {
        "id": "SEI7UhoyWvbe"
      }
    },
    {
      "cell_type": "markdown",
      "source": [
        "\n",
        "\n",
        "---\n",
        "\n",
        "\n",
        "\n",
        "---\n",
        "\n"
      ],
      "metadata": {
        "id": "7lUPFiepe1l0"
      }
    },
    {
      "cell_type": "markdown",
      "source": [
        "# **2. Introduction to Python Programming Language**"
      ],
      "metadata": {
        "id": "rdTeVUPnFP_k"
      }
    },
    {
      "cell_type": "markdown",
      "source": [
        "This tutorial offers a basic introduction to Python syntax, variable assignment, and basic operations.\n",
        "\n",
        "\n",
        "\n",
        "Just for fun, try reading over the code below and predicting what it's going to do when run. (If you have no idea, that's fine!)\n",
        "\n",
        "\n",
        "\n",
        "Python is a high-level, dynamic programming language. Python code is often said to be almost like **pseudocode**, since it allows you to express very powerful ideas in very few lines of code while being very readable. \n",
        "\n",
        "\n",
        "There are currently two different supported versions of Python, 2.7 and 3.7. Somewhat confusingly, Python 3.7 introduced many backwards-incompatible changes to the language, so code written for 2.7 may not work under 3.7 and vice versa. For this laboratory all code will use Python 3.7+. The latest python version can be found here: https://www.python.org/downloads/\n"
      ],
      "metadata": {
        "id": "1pUdXMVeF5sY"
      }
    },
    {
      "cell_type": "markdown",
      "source": [
        "## **Variables and Types**\n",
        "Python is not \"statically-typed\". This means you do not have to declare all your variables before you can use them. You can create new variables whenever you want.\n",
        "\n",
        "```\n",
        "A variable is a symbolic name that 'points' to an object.\n",
        "```\n",
        "\n",
        "Lets go through some basic syntax when working with variables:"
      ],
      "metadata": {
        "id": "jLyesbj-3li7"
      }
    },
    {
      "cell_type": "markdown",
      "source": [
        "\n",
        "```\n",
        "\n",
        "*   To assign a variable with a specific value, use `=`\n",
        "\n",
        "      *  A variable name must start with a letter or the underscore character.\n",
        "      *  A variable name cannot start with a number.\n",
        "      *  A variable name can only contain alpha-numeric characters and underscores (A-z, 0-9, and _ ).\n",
        "      *  Variable names are case-sensitive (name, Name and NAME are three different variables).\n",
        "      *  The reserved words(keywords) cannot be used naming the variable. https://realpython.com/lessons/reserved-keywords/\n",
        "\n",
        "\n",
        "```\n",
        "\n",
        "\n",
        "\n"
      ],
      "metadata": {
        "id": "3lHRdqdb5XNh"
      }
    },
    {
      "cell_type": "markdown",
      "source": [
        "```\n",
        "*   To test whether a variable has a specific value, use the boolean operators:\n",
        "        equal: `==`\n",
        "        not equal: `!=`\n",
        "        greater-than: `>`\n",
        "        less-than: '<'\n",
        "```"
      ],
      "metadata": {
        "id": "lU1tu-BB5K50"
      }
    },
    {
      "cell_type": "markdown",
      "source": [
        "```\n",
        "*   comments: You can also add helpful comments to your code with the `#` symbol. Any line starting with a `#` is not executed. \n",
        "```"
      ],
      "metadata": {
        "id": "h5WCpPT55agB"
      }
    },
    {
      "cell_type": "code",
      "source": [
        "# This is a comment\n",
        "# If you execute this cell, nothing will happen!"
      ],
      "metadata": {
        "id": "5QhLeJNr6Z6a"
      },
      "execution_count": null,
      "outputs": []
    },
    {
      "cell_type": "markdown",
      "source": [
        "### **1. Numeric** \n",
        "\n",
        "Common numeric data types supported by python incude integers and floating point numbers. Integers are whole numbers (e.g. 9), while floats are fractional (e.g. 9.321). You can also convert integers to floats, and vice versa, but you need to be aware of the risks of doing so."
      ],
      "metadata": {
        "id": "Ir0ay_e658Va"
      }
    },
    {
      "cell_type": "markdown",
      "source": [
        "\n",
        "**Follow along with the code below.**\n",
        "\n",
        "*Note: A green check to the left of the code cell indicates that the cell has been run successfully.*"
      ],
      "metadata": {
        "id": "Lwedb0X7EI4w"
      }
    },
    {
      "cell_type": "code",
      "source": [
        "# Create a variable named 'intnum' and assign it the integer value 7\n",
        "intnum = 7"
      ],
      "metadata": {
        "id": "CJ2A6g7u372e"
      },
      "execution_count": null,
      "outputs": []
    },
    {
      "cell_type": "code",
      "source": [
        "# Check the data type using type()\n",
        "type(intnum)"
      ],
      "metadata": {
        "id": "hBFKj5Z8Defr"
      },
      "execution_count": null,
      "outputs": []
    },
    {
      "cell_type": "code",
      "source": [
        "# Create a variable named 'floatnum' and assign it the floating point value 7.4\n",
        "floatnum = 7.4\n",
        "type(floatnum)"
      ],
      "metadata": {
        "id": "5EtmVidW38Ih"
      },
      "execution_count": null,
      "outputs": []
    },
    {
      "cell_type": "code",
      "source": [
        "# Or you could convert the integer you already have\n",
        "int_to_float = float(intnum)\n",
        "int_to_float"
      ],
      "metadata": {
        "id": "KmGY9WyKDYVt"
      },
      "execution_count": null,
      "outputs": []
    },
    {
      "cell_type": "code",
      "source": [
        "# Check the new data type\n",
        "type(int_to_float)"
      ],
      "metadata": {
        "id": "G7F4Y9eMbm4K"
      },
      "execution_count": null,
      "outputs": []
    },
    {
      "cell_type": "code",
      "source": [
        "# Now see what happens when you convert a float to an int\n",
        "float_to_int = int(7.3)\n",
        "float_to_int"
      ],
      "metadata": {
        "id": "17-CaILt38X7"
      },
      "execution_count": null,
      "outputs": []
    },
    {
      "cell_type": "markdown",
      "source": [
        "We can use print() to display the value of a variable on the screen. "
      ],
      "metadata": {
        "id": "2IvmClm3GGPk"
      }
    },
    {
      "cell_type": "code",
      "source": [
        "intnum = 7\n",
        "floatnum = 7.4\n",
        "\n",
        "print(intnum)\n",
        "print(floatnum)"
      ],
      "metadata": {
        "id": "e2UkGCikGMnT"
      },
      "execution_count": null,
      "outputs": []
    },
    {
      "cell_type": "markdown",
      "source": [
        "This is especially useful to display multiple things at once. Note that when using print(), text must be inside quotation marks."
      ],
      "metadata": {
        "id": "gyhmhl15HDXZ"
      }
    },
    {
      "cell_type": "code",
      "source": [
        "intnum = 7\n",
        "floatnum = 7.4\n",
        "\n",
        "print(intnum, \"is an integer and\",floatnum,\"is a floating point number.\")"
      ],
      "metadata": {
        "id": "S5XGR95aHBMb"
      },
      "execution_count": null,
      "outputs": []
    },
    {
      "cell_type": "markdown",
      "source": [
        "Other ways to format your print() command:"
      ],
      "metadata": {
        "id": "QXzyhdZ-J4xp"
      }
    },
    {
      "cell_type": "code",
      "source": [
        "intnum = 3\n",
        "print(\"My lucky number is: {}\".format(intnum))"
      ],
      "metadata": {
        "id": "dVwJVQaLJXs3"
      },
      "execution_count": null,
      "outputs": []
    },
    {
      "cell_type": "markdown",
      "source": [
        "If a variable is assigned a value more than once, it will take the last value assigned."
      ],
      "metadata": {
        "id": "OXskcHDdHsiI"
      }
    },
    {
      "cell_type": "code",
      "source": [
        "intnum = 7\n",
        "intnum = 8\n",
        "\n",
        "print(intnum)"
      ],
      "metadata": {
        "id": "flpiuuV1H31Z"
      },
      "execution_count": null,
      "outputs": []
    },
    {
      "cell_type": "markdown",
      "source": [
        "We can also assign values to two variables at the same time."
      ],
      "metadata": {
        "id": "6XC0LHQ9IjLQ"
      }
    },
    {
      "cell_type": "code",
      "source": [
        "intnum, floatnum = 3, 3.\n",
        "print(intnum, floatnum)"
      ],
      "metadata": {
        "id": "BI__JFhIIdTS"
      },
      "execution_count": null,
      "outputs": []
    },
    {
      "cell_type": "code",
      "source": [
        "type(intnum)"
      ],
      "metadata": {
        "id": "ww1C52jA9sEk"
      },
      "execution_count": null,
      "outputs": []
    },
    {
      "cell_type": "code",
      "source": [
        "type(floatnum)"
      ],
      "metadata": {
        "id": "U6A-pW339uch"
      },
      "execution_count": null,
      "outputs": []
    },
    {
      "cell_type": "markdown",
      "source": [
        "#### **Arithmetic operators**\n",
        "As you would expect, you can use the various mathematical operators with numbers (both integers and floats)."
      ],
      "metadata": {
        "id": "NCKoNUnVENjW"
      }
    },
    {
      "cell_type": "code",
      "source": [
        "# Does Python follow order operations hierarchy?\n",
        "num1 = 1 + 2 * 3 / 2.0\n",
        "num2 = (1 + 2) * 3 / 2.0\n",
        "print(num1, num2)"
      ],
      "metadata": {
        "id": "TxYCYtMODxeC"
      },
      "execution_count": null,
      "outputs": []
    },
    {
      "cell_type": "code",
      "source": [
        "# The modulo (%) returns the integer remainder of a division\n",
        "remainder = 11 % 3\n",
        "print(remainder)"
      ],
      "metadata": {
        "id": "HhmPaNVHIP4z"
      },
      "execution_count": null,
      "outputs": []
    },
    {
      "cell_type": "code",
      "source": [
        "one = 1\n",
        "two = 2\n",
        "three = one + two\n",
        "print(three)"
      ],
      "metadata": {
        "id": "VuBDNB2BIYXU"
      },
      "execution_count": null,
      "outputs": []
    },
    {
      "cell_type": "code",
      "source": [
        "# Two multiplications is equivalent to a power operation\n",
        "squared = 7 ** 2\n",
        "print(squared)"
      ],
      "metadata": {
        "id": "ASP0cAXGIh6_"
      },
      "execution_count": null,
      "outputs": []
    },
    {
      "cell_type": "markdown",
      "source": [
        "###**2. Booleans**\n",
        "Boolean data type is a data type that has one of two possible values which is intended to represent the two truth values of logic: if an expression is True or False."
      ],
      "metadata": {
        "id": "IjZOopaI4xMj"
      }
    },
    {
      "cell_type": "code",
      "source": [
        "print(4 < 7)"
      ],
      "metadata": {
        "id": "aY5V07pN4Ojz"
      },
      "execution_count": null,
      "outputs": []
    },
    {
      "cell_type": "code",
      "source": [
        "a = 6\n",
        "print(a > 4)"
      ],
      "metadata": {
        "id": "uqE5d3YvI5zq"
      },
      "execution_count": null,
      "outputs": []
    },
    {
      "cell_type": "code",
      "source": [
        "a == 7"
      ],
      "metadata": {
        "id": "ulh0Ec-H8M0j"
      },
      "execution_count": null,
      "outputs": []
    },
    {
      "cell_type": "code",
      "source": [
        "a < 7"
      ],
      "metadata": {
        "id": "S7nbZzgu8cmP"
      },
      "execution_count": null,
      "outputs": []
    },
    {
      "cell_type": "markdown",
      "source": [
        "### **3. Strings**\n",
        "Strings are the Python term for text. You can define these in either single or double quotes.\n",
        "\n"
      ],
      "metadata": {
        "id": "Uu5_CLPl6nn-"
      }
    },
    {
      "cell_type": "code",
      "source": [
        "mystring = \"Hello Class and Happy Tuesday!\"\n",
        "print(mystring)"
      ],
      "metadata": {
        "id": "EVeyeSD438lR"
      },
      "execution_count": null,
      "outputs": []
    },
    {
      "cell_type": "markdown",
      "source": [
        "You can also apply simple operators to your string variables, or assign multiple variables simultaneously.\n"
      ],
      "metadata": {
        "id": "Bcs4I2ky6yTy"
      }
    },
    {
      "cell_type": "code",
      "source": [
        "# In this example, we concatenate two string variables to form a new variable\n",
        "hello = \"Hello,\"\n",
        "world = \"World!\"\n",
        "helloworld = hello + \" \" + world\n",
        "print(helloworld)\n"
      ],
      "metadata": {
        "id": "tNgxYzdg60RD"
      },
      "execution_count": null,
      "outputs": []
    },
    {
      "cell_type": "markdown",
      "source": [
        "Note, though, that mixing variable types causes problems."
      ],
      "metadata": {
        "id": "Kv8fmSuV63iZ"
      }
    },
    {
      "cell_type": "code",
      "source": [
        "one = 1\n",
        "two = 2\n",
        "print(one + two + hello)\n",
        "type()"
      ],
      "metadata": {
        "id": "zcvqcDWL674T"
      },
      "execution_count": null,
      "outputs": []
    },
    {
      "cell_type": "markdown",
      "source": [
        "Python will throw an error when you make a mistake like this and the error will give you as much detail as it can about what just happened. This is extremely useful when you're attempting to \"debug\" your code.\n",
        "\n",
        "In this case, you're told: `TypeError: unsupported operand type(s) for +: 'int'` `and 'str'`\n",
        "\n",
        "And the context should make it clear that you tried to combine two integer variables with a string.\n",
        "\n",
        "You can also combine strings with placeholders for variables:\n",
        "\n"
      ],
      "metadata": {
        "id": "qMFqsZHY6_ox"
      }
    },
    {
      "cell_type": "code",
      "source": [
        "print(one, two, hello)"
      ],
      "metadata": {
        "id": "SjJ7iAZ8BpT8"
      },
      "execution_count": null,
      "outputs": []
    },
    {
      "cell_type": "markdown",
      "source": [
        "You can use len() to get the length of your variable (e.g., number of characters in a string)"
      ],
      "metadata": {
        "id": "o74dS1G8KL1z"
      }
    },
    {
      "cell_type": "code",
      "source": [
        "a_string = \"Hello, World!\"\n",
        "len(a_string)"
      ],
      "metadata": {
        "id": "StaU2KR9Jccc"
      },
      "execution_count": null,
      "outputs": []
    },
    {
      "cell_type": "code",
      "source": [
        "print(\"String length: {}\".format(len(a_string)))"
      ],
      "metadata": {
        "id": "paXbUURDWB5K"
      },
      "execution_count": null,
      "outputs": []
    },
    {
      "cell_type": "markdown",
      "source": [
        "Some more string operations:"
      ],
      "metadata": {
        "id": "ePkucMUkMlLT"
      }
    },
    {
      "cell_type": "code",
      "source": [
        "# You've already seen arithmetic concatenations of strings\n",
        "helloworld = \"Hello,\" + \" \" + \"World!\"\n",
        "print(helloworld)"
      ],
      "metadata": {
        "id": "lbF9Jv_0EdRv"
      },
      "execution_count": null,
      "outputs": []
    },
    {
      "cell_type": "code",
      "source": [
        "# You can also multiply strings to form a repeating sequence\n",
        "manyhellos = \"Hello \" * 10\n",
        "print(manyhellos)"
      ],
      "metadata": {
        "id": "KlxSkPCgMxNg"
      },
      "execution_count": null,
      "outputs": []
    },
    {
      "cell_type": "code",
      "source": [
        "# But don't get carried away. Not everything will work.\n",
        "nohellos = \"Hello \" / 10\n",
        "print(nohellos)"
      ],
      "metadata": {
        "id": "gG2vwnlVM2g9"
      },
      "execution_count": null,
      "outputs": []
    },
    {
      "cell_type": "code",
      "source": [
        "# upper() and lower() are methods that work on strings\n",
        "# unlike a function, a 'method' is used on an object\n",
        "sent = \"The weather is Nice\"\n",
        "sent = sent.lower()\n",
        "sent"
      ],
      "metadata": {
        "id": "Q0rAEd1pE4Vr"
      },
      "execution_count": null,
      "outputs": []
    },
    {
      "cell_type": "code",
      "source": [
        "sent = sent.upper()\n",
        "sent"
      ],
      "metadata": {
        "id": "OhZXhwxvXIZB"
      },
      "execution_count": null,
      "outputs": []
    },
    {
      "cell_type": "code",
      "source": [
        "# you can use a boolean operation for verification\n",
        "print(sent.isupper())"
      ],
      "metadata": {
        "id": "qp1qLPX6WyDy"
      },
      "execution_count": null,
      "outputs": []
    },
    {
      "cell_type": "code",
      "source": [
        "# or include the entire operation within the print statement\n",
        "print(sent.upper().isupper())"
      ],
      "metadata": {
        "id": "7ZOg3lIdXU9R"
      },
      "execution_count": null,
      "outputs": []
    },
    {
      "cell_type": "code",
      "source": [
        "# print(sent.upper())\n",
        "print(sent.lower())\n",
        "print(sent.lower().isupper())\n",
        "print(len(sent))"
      ],
      "metadata": {
        "id": "dxF1OFXwNQ2S"
      },
      "execution_count": null,
      "outputs": []
    },
    {
      "cell_type": "code",
      "source": [
        "# Access certain characters using their indices (known as slicing)\n",
        "sent[0:3] # square brackets are used to extract indices/positions of elements in the string"
      ],
      "metadata": {
        "id": "CC2zU8LtPbim"
      },
      "execution_count": null,
      "outputs": []
    },
    {
      "cell_type": "code",
      "source": [
        "# return the location of a charactor \n",
        "sent.index(\"i\")"
      ],
      "metadata": {
        "id": "zbiYtgWwQDnk"
      },
      "execution_count": null,
      "outputs": []
    },
    {
      "cell_type": "code",
      "source": [
        "# we need to change back to lower case\n",
        "sent = sent.lower()\n",
        "sent.index(\"i\")"
      ],
      "metadata": {
        "id": "m1agMiYRDif_"
      },
      "execution_count": null,
      "outputs": []
    },
    {
      "cell_type": "code",
      "source": [
        "# count how many times a character is present\n",
        "sent.count(\"e\")"
      ],
      "metadata": {
        "id": "C5AJTwn0SJVr"
      },
      "execution_count": null,
      "outputs": []
    },
    {
      "cell_type": "code",
      "source": [
        "# if a character is present more than once, the first position will be returned\n",
        "sent.index(\"e\")"
      ],
      "metadata": {
        "id": "8wS5zIOfR01a"
      },
      "execution_count": null,
      "outputs": []
    },
    {
      "cell_type": "code",
      "source": [
        "# find and return position of first character\n",
        "sent.find(\"is\")"
      ],
      "metadata": {
        "id": "TmnIx7SuSPlc"
      },
      "execution_count": null,
      "outputs": []
    },
    {
      "cell_type": "code",
      "source": [
        "# replace \n",
        "sent.replace(\"the\", \"In\")"
      ],
      "metadata": {
        "id": "p3rATJlERrXb"
      },
      "execution_count": null,
      "outputs": []
    },
    {
      "cell_type": "markdown",
      "source": [
        "For more string operations and to get more practice, check out the following link: https://www.w3schools.com/python/python_ref_string.asp\n"
      ],
      "metadata": {
        "id": "nRegkzRwS7cd"
      }
    },
    {
      "cell_type": "markdown",
      "source": [
        "### **4. Lists**\n",
        "Lists are used to store multiple items in a single variable.\n",
        "\n",
        "`Lists` are an ordered collection of elements that are assigned a unique value. Each element in a list has an index value associated with it to identify its postion in the list. You can **combine as many variables as you like**, and they could even be of multiple types. Ordinarily, unless you have a specific reason to do so, lists will contain variables of one type.\n",
        "\n",
        "You can also **iterate** over a list (use each item in a list in sequence).\n",
        "\n",
        "A list is placed between square brackets: `[]`"
      ],
      "metadata": {
        "id": "GgkygqGZ7V3t"
      }
    },
    {
      "cell_type": "code",
      "source": [
        "# created using square brackets\n",
        "mylist = [1,2,3]\n",
        "print(mylist)"
      ],
      "metadata": {
        "id": "43Mhij2ZU9FD"
      },
      "execution_count": null,
      "outputs": []
    },
    {
      "cell_type": "code",
      "source": [
        "# append items to the list\n",
        "# note that 'append()' changes the variable and a new variable assignment is not necessary\n",
        "\n",
        "mylist.append(4)\n",
        "mylist.append(5)\n",
        "mylist.append(6)\n",
        "\n",
        "print(mylist)"
      ],
      "metadata": {
        "id": "2KKYfqTlVMRZ"
      },
      "execution_count": null,
      "outputs": []
    },
    {
      "cell_type": "markdown",
      "source": [
        "Like with strings, you can also extract subsets of the data in a list."
      ],
      "metadata": {
        "id": "K7Fbnit-WQeU"
      }
    },
    {
      "cell_type": "code",
      "source": [
        "# The first element in a Python list starts at position 0\n",
        "# similar to strings, we can use [] to extract list elements by index number\n",
        "# Here, 1:4 indicates a range; from position 1 up to BUT NOT INCLUDING position 4\n",
        "\n",
        "print(mylist[1:4])"
      ],
      "metadata": {
        "id": "lXe6f3vFVkZa"
      },
      "execution_count": null,
      "outputs": []
    },
    {
      "cell_type": "code",
      "source": [
        "# The last item in a Python list can be addressed as -1. \n",
        "# This is helpful when you don't know how long a list is likely to be.\n",
        "print(mylist[-1])"
      ],
      "metadata": {
        "id": "SfUAMUvU7e5R"
      },
      "execution_count": null,
      "outputs": []
    },
    {
      "cell_type": "code",
      "source": [
        "# adding a third argument to the range = step size\n",
        "print(mylist[1:-1:2])"
      ],
      "metadata": {
        "id": "-CgDEdHugPMK"
      },
      "execution_count": null,
      "outputs": []
    },
    {
      "cell_type": "markdown",
      "source": [
        "If you try access an item in a list that isn't there, you'll get an error."
      ],
      "metadata": {
        "id": "7tsOx1fy7jxD"
      }
    },
    {
      "cell_type": "code",
      "source": [
        "print(mylist[10])"
      ],
      "metadata": {
        "id": "gOndZXm-7mKm"
      },
      "execution_count": null,
      "outputs": []
    },
    {
      "cell_type": "code",
      "source": [
        "# We can concatenate two lists using '+'\n",
        "even_numbers = [2, 4, 6, 8]\n",
        "uneven_numbers = [1, 3, 5, 7]\n",
        "all_numbers = uneven_numbers + even_numbers\n",
        "print(all_numbers)"
      ],
      "metadata": {
        "id": "q2qQ4oODKQ7a"
      },
      "execution_count": null,
      "outputs": []
    },
    {
      "cell_type": "code",
      "source": [
        "# You can also repeat sequences of lists\n",
        "print([1, 2, 3] * 3)"
      ],
      "metadata": {
        "id": "kGTek-7JpCNJ"
      },
      "execution_count": null,
      "outputs": []
    },
    {
      "cell_type": "markdown",
      "source": [
        "We can also create a list of values with datatype string"
      ],
      "metadata": {
        "id": "HeVk4jvjpgbx"
      }
    },
    {
      "cell_type": "code",
      "source": [
        "friends = [\"Mary\", \"George\" , \"Ali\", \"Sher\"]\n",
        "print(friends)"
      ],
      "metadata": {
        "id": "gs1mJBjvKdO5"
      },
      "execution_count": null,
      "outputs": []
    },
    {
      "cell_type": "code",
      "source": [
        "friends[1]"
      ],
      "metadata": {
        "id": "HgCl_aQ9KhW8"
      },
      "execution_count": null,
      "outputs": []
    },
    {
      "cell_type": "code",
      "source": [
        "friends[0:2]"
      ],
      "metadata": {
        "id": "WyuPuBcFKiFM"
      },
      "execution_count": null,
      "outputs": []
    },
    {
      "cell_type": "code",
      "source": [
        "friends.append(\"Alicia\")\n",
        "print(friends)"
      ],
      "metadata": {
        "id": "4C06M_03Jwbw"
      },
      "execution_count": null,
      "outputs": []
    },
    {
      "cell_type": "code",
      "source": [
        "friends.remove(\"Sher\")\n",
        "print(friends)"
      ],
      "metadata": {
        "id": "kCS5dHYbKBjH"
      },
      "execution_count": null,
      "outputs": []
    },
    {
      "cell_type": "code",
      "source": [
        "#if an element is in the list? check the index\n",
        "friends.index(\"Ali\")"
      ],
      "metadata": {
        "id": "Z4-SKMAPKLRi"
      },
      "execution_count": null,
      "outputs": []
    },
    {
      "cell_type": "code",
      "source": [
        "friends.count(\"Ali\")"
      ],
      "metadata": {
        "id": "Yhh-RVBtKa4z"
      },
      "execution_count": null,
      "outputs": []
    },
    {
      "cell_type": "code",
      "source": [
        "# Insert a value in a specified index position\n",
        "friends.insert(0, \"\")\n",
        "print(friends)"
      ],
      "metadata": {
        "id": "jEALboNdLSH0"
      },
      "execution_count": null,
      "outputs": []
    },
    {
      "cell_type": "code",
      "source": [
        "friends.sort()\n"
      ],
      "metadata": {
        "id": "Yjx4goEJKk9n"
      },
      "execution_count": null,
      "outputs": []
    },
    {
      "cell_type": "code",
      "source": [
        "print(friends)\n"
      ],
      "metadata": {
        "id": "aj5Z-sK1K8nh"
      },
      "execution_count": null,
      "outputs": []
    },
    {
      "cell_type": "markdown",
      "source": [
        "We can also iterate through a list using a 'for' statement to perform some function on each element individually. (more on looping below!)\n",
        "\n",
        "Note that this is the first time that we need to run a block of code simultaneously. Python knows when parts of code need to be executed together based on the indentation. This can be either tabs or spaces (but do not mix the two)."
      ],
      "metadata": {
        "id": "suNy2lXFYiLV"
      }
    },
    {
      "cell_type": "code",
      "source": [
        "# Note that `x` is a new variable which takes on the value of each item in the list in order.\n",
        "for x in friends:  \n",
        "  print(x)"
      ],
      "metadata": {
        "id": "5Ej7hQxaWKHK"
      },
      "execution_count": null,
      "outputs": []
    },
    {
      "cell_type": "markdown",
      "source": [
        "Careful when modifying data in place: if two variables point to the same list, modifying an item in one variable will modify that item in the second variable as well. If that is undesirable, you can make a copy instead."
      ],
      "metadata": {
        "id": "pvXP4jduWy16"
      }
    },
    {
      "cell_type": "code",
      "source": [
        "yellow_fruit = [\"lemon\", \"banana\", \"pineapple\"]\n",
        "fruit = yellow_fruit # both variables point to same list\n",
        "fruit.append(\"cherry\")\n",
        "print(yellow_fruit)"
      ],
      "metadata": {
        "id": "eU3-DZpyZYw5"
      },
      "execution_count": null,
      "outputs": []
    },
    {
      "cell_type": "code",
      "source": [
        "yellow_fruit = [\"lemon\", \"banana\", \"pineapple\"]\n",
        "fruit = list(yellow_fruit) # creates a copy of the list\n",
        "fruit.append(\"cherry\")\n",
        "print(yellow_fruit)\n",
        "print(fruit)"
      ],
      "metadata": {
        "id": "t_yoaw0-b6UE"
      },
      "execution_count": null,
      "outputs": []
    },
    {
      "cell_type": "markdown",
      "source": [
        "####**Nested (2D) List**\n",
        "\n",
        "Sometimes, items in a list are composed of multiple values. For such a case, nested lists can be used (i.e., lists inside a list)."
      ],
      "metadata": {
        "id": "xI7lxIL5fh12"
      }
    },
    {
      "cell_type": "code",
      "source": [
        "numbers = [\n",
        "         [1,2,3],\n",
        "         [4,5,6],\n",
        "         [7,8]\n",
        "]\n",
        "numbers"
      ],
      "metadata": {
        "id": "-4Z9VQ4NfzZ8"
      },
      "execution_count": null,
      "outputs": []
    },
    {
      "cell_type": "code",
      "source": [
        "numbers = [[1,2,3], [4,5,6],[7,8]]\n",
        "numbers"
      ],
      "metadata": {
        "id": "qh-4IwslXWJM"
      },
      "execution_count": null,
      "outputs": []
    },
    {
      "cell_type": "markdown",
      "source": [
        "Extracting subsets from a nested list is a bit different."
      ],
      "metadata": {
        "id": "rIwa5QUhdCnW"
      }
    },
    {
      "cell_type": "code",
      "source": [
        "# extract elements from 2D list\n",
        "numbers[0]"
      ],
      "metadata": {
        "id": "KU5iIxZNr-Tf"
      },
      "execution_count": null,
      "outputs": []
    },
    {
      "cell_type": "code",
      "source": [
        "numbers[0][0]"
      ],
      "metadata": {
        "id": "QtXho-dOdMpD"
      },
      "execution_count": null,
      "outputs": []
    },
    {
      "cell_type": "markdown",
      "source": [
        "With 2D lists, we can use 'for' loops to iterate through the rows and columns."
      ],
      "metadata": {
        "id": "11YcBpJBXe3f"
      }
    },
    {
      "cell_type": "code",
      "source": [
        "# nested for loop\n",
        "\n",
        "for row in numbers:\n",
        "  for col in row:\n",
        "    print(col)\n",
        "    "
      ],
      "metadata": {
        "id": "rGcGlAFggJTD"
      },
      "execution_count": null,
      "outputs": []
    },
    {
      "cell_type": "markdown",
      "source": [
        "*Note that looping through lists can be very inefficient and we will make use of the library numpy in future labs.*"
      ],
      "metadata": {
        "id": "UQ6Qk4OttUq5"
      }
    },
    {
      "cell_type": "markdown",
      "source": [
        "###**5. Tuples**\n",
        "\n",
        "\n",
        "A Tuple is a collection of Python elements separated by commas. In someways a tuple is similar to a list in terms of indexing, nested objects and repetition but a tuple is **immutable** unlike lists which are mutable. \n",
        "\n",
        "With Tuples, You cannot changes or modify, delete, add them."
      ],
      "metadata": {
        "id": "wx-LlIS9Yi-b"
      }
    },
    {
      "cell_type": "code",
      "source": [
        "coordinates = (118, 441)"
      ],
      "metadata": {
        "id": "3GTMJ0pGZM6A"
      },
      "execution_count": null,
      "outputs": []
    },
    {
      "cell_type": "code",
      "source": [
        "# Access the elements \n",
        "coordinates[0]"
      ],
      "metadata": {
        "id": "pqnUGpeDMZaq"
      },
      "execution_count": null,
      "outputs": []
    },
    {
      "cell_type": "code",
      "source": [
        "# Can we change the items?\n",
        "coordinates[1] = 6669796685"
      ],
      "metadata": {
        "id": "2vM-iAs-ZsUw"
      },
      "execution_count": null,
      "outputs": []
    },
    {
      "cell_type": "code",
      "source": [
        "# use built-in function list() to list the tuple values\n",
        "print(coordinates)\n",
        "print(list(coordinates))\n"
      ],
      "metadata": {
        "id": "ZPPPK223MwN1"
      },
      "execution_count": null,
      "outputs": []
    },
    {
      "cell_type": "code",
      "source": [
        "coordinates2 = [(1,2), (3,7), (7,5)]\n",
        "coordinates2[1]"
      ],
      "metadata": {
        "id": "v-r1F6JANBpO"
      },
      "execution_count": null,
      "outputs": []
    }
  ]
}